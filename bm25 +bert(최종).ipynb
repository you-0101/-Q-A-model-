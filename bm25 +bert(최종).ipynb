{
  "nbformat": 4,
  "nbformat_minor": 0,
  "metadata": {
    "colab": {
      "name": "bertexe.ipynb",
      "private_outputs": true,
      "provenance": [],
      "collapsed_sections": [],
      "machine_shape": "hm"
    },
    "kernelspec": {
      "name": "python3",
      "display_name": "Python 3"
    },
    "accelerator": "GPU"
  },
  "cells": [
    {
      "cell_type": "code",
      "metadata": {
        "id": "8dkbjTL4LNde"
      },
      "source": [
        "import argparse\n",
        "import collections\n",
        "import gzip\n",
        "import json\n",
        "import math\n",
        "import multiprocessing\n",
        "import numpy as np\n",
        "import os\n",
        "import pickle\n",
        "import random\n",
        "import re\n",
        "import six\n",
        "import subprocess\n",
        "import time\n",
        "import torch\n",
        "import torch.nn as nn\n",
        "import torch.nn.functional as F\n",
        "import torch.optim as optim\n",
        "import sys\n",
        "import matplotlib\n",
        "\n",
        "from multiprocessing import Lock, Manager, Pool, Process, Queue, Value\n",
        "from six import iteritems\n",
        "from six.moves import range as six_range"
      ],
      "execution_count": null,
      "outputs": []
    },
    {
      "cell_type": "code",
      "metadata": {
        "id": "5O3uaD8PQV61"
      },
      "source": [
        "!pip install transformers\n",
        "\n",
        "from transformers import BertModel, BertTokenizer"
      ],
      "execution_count": null,
      "outputs": []
    },
    {
      "cell_type": "code",
      "metadata": {
        "id": "vqyZN0WnMOCe"
      },
      "source": [
        "from google.colab import drive\n",
        "drive.mount('/content/drive')"
      ],
      "execution_count": null,
      "outputs": []
    },
    {
      "cell_type": "code",
      "metadata": {
        "id": "syVmZOY2vUWT"
      },
      "source": [
        "cd /content/drive/My Drive/2020_09_12_topic_model_공유/data"
      ],
      "execution_count": null,
      "outputs": []
    },
    {
      "cell_type": "code",
      "metadata": {
        "id": "2tGEqpvRvUif"
      },
      "source": [
        "ls"
      ],
      "execution_count": null,
      "outputs": []
    },
    {
      "cell_type": "code",
      "metadata": {
        "id": "ZYFEVfrrwNSh"
      },
      "source": [
        "fp2 = open('nq/predict(정학).trec', 'r', encoding='utf-8')  #여기엔 bm25 \n",
        "predict = []\n",
        "while True:\n",
        "    line = fp2.readline()\n",
        "    if not line: break\n",
        "    predict.append(line.split())\n",
        "bm25_predict=sorted(predict , key = lambda x : (int(x[0]), int(x[3])))\n",
        "print(bm25_predict[0])\n",
        "fp2.close()"
      ],
      "execution_count": null,
      "outputs": []
    },
    {
      "cell_type": "code",
      "metadata": {
        "id": "jBiq6UnrvxXn"
      },
      "source": [
        "!chmod 777 trec_eval"
      ],
      "execution_count": null,
      "outputs": []
    },
    {
      "cell_type": "code",
      "metadata": {
        "id": "ICBou3FvQ3yp"
      },
      "source": [
        "cd /content/drive/My Drive/2020_09_16_combine/data/"
      ],
      "execution_count": null,
      "outputs": []
    },
    {
      "cell_type": "code",
      "metadata": {
        "id": "CxMynC4JQ5Sf"
      },
      "source": [
        "ls"
      ],
      "execution_count": null,
      "outputs": []
    },
    {
      "cell_type": "code",
      "metadata": {
        "id": "utSnjYXMQ6rO"
      },
      "source": [
        "!chmod 777 trec_eval"
      ],
      "execution_count": null,
      "outputs": []
    },
    {
      "cell_type": "code",
      "metadata": {
        "id": "i7yVTMyQbbBh"
      },
      "source": [
        "data = open('nq/lendata.txt', 'r', encoding='utf-8') #여기엔 내가 준 파일 넣기\n",
        "lendocu = []\n",
        "while True:\n",
        "    line = data.readline()\n",
        "    if not line: break\n",
        "    lendocu.append(line)\n",
        "temp = []\n",
        "temp1 =[]\n",
        "temp.append(lendocu[0].split())\n",
        "for i in range(len(temp[0])):\n",
        "  temp1.append(int(temp[0][i]))  \n",
        "lendocu = temp1\n",
        "print(lendocu[0])"
      ],
      "execution_count": null,
      "outputs": []
    },
    {
      "cell_type": "code",
      "metadata": {
        "id": "aK-H2Nvketoh"
      },
      "source": [
        "fp = open('nq/new_predict.trec', 'r', encoding='utf-8') #여기엔 bert predict\n",
        "predict = []\n",
        "while True:\n",
        "    line = fp.readline()\n",
        "    if not line: break\n",
        "    predict.append(line.split())\n",
        "bert_predict=sorted(predict , key = lambda x : (int(x[0]), int(x[3])))\n",
        "print(bert_predict[0])\n",
        "fp.close()"
      ],
      "execution_count": null,
      "outputs": []
    },
    {
      "cell_type": "code",
      "metadata": {
        "id": "ZQS0X1ngwoHL"
      },
      "source": [
        "bert_score = []\n",
        "for i in range(0,633):\n",
        "  for j in range(0,1000):\n",
        "    k = i*1000+j\n",
        "    bert_score.append(bert_predict[k][4])\n",
        "    index = int(bm25_predict[k][2])\n",
        "    bool = 0\n",
        "    if lendocu[index] >300:\n",
        "      for t in range((k-j),(k-j+1000)):\n",
        "        if index == int(bert_predict[t][2]):\n",
        "          bool =1\n",
        "          break\n",
        "      if bool ==1:\n",
        "        if int(bert_predict[t][3]) > int(bm25_predict[k][3]):\n",
        "          mid = int(int(bert_predict[t][3])*0.3+int(bm25_predict[k][3])*0.7)\n",
        "          temp = bert_predict[t]\n",
        "          del bert_predict[t]\n",
        "          bert_predict.insert((k-j+mid)-1,temp)\n",
        "        else:\n",
        "          mid = int(int(bert_predict[t][3])*0.3+int(bm25_predict[k][3])*0.7)\n",
        "          temp = bert_predict[t]\n",
        "          del bert_predict[t]\n",
        "          bert_predict.insert((k-j+mid)-1,temp)\n",
        "    elif lendocu[index] >400:\n",
        "      for t in range((k-j),(k-j+1000)):\n",
        "        if index == int(bert_predict[t][2]):\n",
        "          bool =1\n",
        "          break\n",
        "      if bool ==1:\n",
        "        if int(bert_predict[t][3]) > int(bm25_predict[k][3]):\n",
        "          mid = int(int(bert_predict[t][3])*0.2+int(bm25_predict[k][3])*0.8)\n",
        "          temp = bert_predict[t]\n",
        "          del bert_predict[t]\n",
        "          bert_predict.insert((k-j+mid)-1,temp)\n",
        "        else:\n",
        "          mid = int(int(bert_predict[t][3])*0.2+int(bm25_predict[k][3])*0.8)\n",
        "          temp = bert_predict[t]\n",
        "          del bert_predict[t]\n",
        "          bert_predict.insert((k-j+mid)-1,temp)\n",
        "    elif lendocu[index] >500:\n",
        "      for t in range((k-j),(k-j+1000)):\n",
        "        if index == int(bert_predict[t][2]):\n",
        "          bool =1\n",
        "          break\n",
        "      if bool ==1:\n",
        "        if int(bert_predict[t][3]) > int(bm25_predict[k][3]):\n",
        "          mid = int(int(bert_predict[t][3])*0.1+int(bm25_predict[k][3])*0.9)\n",
        "          temp = bert_predict[t]\n",
        "          del bert_predict[t]\n",
        "          bert_predict.insert((k-j+mid)-1,temp)\n",
        "        else:\n",
        "          mid = int(int(bert_predict[t][3])*0.1+int(bm25_predict[k][3])*0.9)\n",
        "          temp = bert_predict[t]\n",
        "          del bert_predict[t]\n",
        "          bert_predict.insert((k-j+mid)-1,temp)"
      ],
      "execution_count": null,
      "outputs": []
    },
    {
      "cell_type": "code",
      "metadata": {
        "id": "6Cs5EFqY-EBY"
      },
      "source": [
        "fw = open('nq/last_predict.trec', 'w', encoding='utf-8')\n",
        "for i in range(0,633):\n",
        "  for j in range(0,1000):\n",
        "    k = i*1000+j\n",
        "    bert_predict[k][3] = k%1000 +1\n",
        "    bert_predict[k][4] = str(bert_score[k])\n",
        "    fw.write('%s %s %s %d %s %s\\n' % (bert_predict[k][0],bert_predict[k][1], bert_predict[k][2],bert_predict[k][3], bert_predict[k][4], bert_predict[k][5]))\n",
        "fw.close()    "
      ],
      "execution_count": null,
      "outputs": []
    },
    {
      "cell_type": "code",
      "metadata": {
        "id": "uxtsqFGPRP8C"
      },
      "source": [
        "trec_eval_res = subprocess.Popen(['./trec_eval', '-m', 'all_trec', 'nq/answer.trec', 'nq/new_predict.trec'], stdout=subprocess.PIPE, shell=False)\n",
        "out, err = trec_eval_res.communicate()\n",
        "lines = out.decode('utf-8').strip().split('\\n')\n",
        "metrics = {}\n",
        "for line in lines[1:]:\n",
        "    metric, _, value = line.split()\n",
        "    if '.' in value:\n",
        "        value = float(value)\n",
        "    else:\n",
        "        value = int(value)\n",
        "    metrics[metric.lower()] = value\n",
        "print('| R@1000 |  R@500  | R@200 |  R@100  | R@30 |')\n",
        "print('| %6.2f | %6.2f | %6.2f | %6.2f | %6.2f |' % (metrics['recall_1000'] * 100, metrics['recall_500'] * 100, metrics['recall_200'] * 100, metrics['recall_100'] * 100, metrics['recall_30'] * 100 ))"
      ],
      "execution_count": null,
      "outputs": []
    },
    {
      "cell_type": "code",
      "metadata": {
        "id": "3lhX_CfBM4GB"
      },
      "source": [
        "trec_eval_res = subprocess.Popen(['./trec_eval', '-m', 'all_trec', 'nq/answer.trec', 'nq/last_predict.trec'], stdout=subprocess.PIPE, shell=False)\n",
        "out, err = trec_eval_res.communicate()\n",
        "lines = out.decode('utf-8').strip().split('\\n')\n",
        "metrics = {}\n",
        "for line in lines[1:]:\n",
        "    metric, _, value = line.split()\n",
        "    if '.' in value:\n",
        "        value = float(value)\n",
        "    else:\n",
        "        value = int(value)\n",
        "    metrics[metric.lower()] = value\n",
        "print('| R@1000 |  R@500  | R@200 |  R@100  | R@30 |')\n",
        "print('| %6.2f | %6.2f | %6.2f | %6.2f | %6.2f |' % (metrics['recall_1000'] * 100, metrics['recall_500'] * 100, metrics['recall_200'] * 100, metrics['recall_100'] * 100, metrics['recall_30'] * 100 ))"
      ],
      "execution_count": null,
      "outputs": []
    },
    {
      "cell_type": "code",
      "metadata": {
        "id": "jTE0Ug4IKZJN"
      },
      "source": [
        "fa_tok = open('nq/answer.txt', 'r', encoding='utf-8')\n",
        "fv = open('nq/vocab_30000.txt', 'r', encoding='utf-8')\n",
        "\n",
        "q = []\n",
        "vocab = []\n",
        "cnt = 0\n",
        "\n",
        "for line in fa_tok:\n",
        "    if cnt % 2 == 0:\n",
        "        temp = line.split()\n",
        "        q.append(temp)\n",
        "        #query_tok.append(tokenizer.tokenize(q))\n",
        "    cnt += 1\n",
        "fa_tok.close()\n",
        "\n",
        "for line in fv:\n",
        "    temp = line.split()\n",
        "    vocab.append(temp[1])\n",
        "fv.close()"
      ],
      "execution_count": null,
      "outputs": []
    },
    {
      "cell_type": "code",
      "metadata": {
        "id": "02GrOrfQ3j7L"
      },
      "source": [
        "for i in range(10):\n",
        "    for s in q:\n",
        "        for w in s:\n",
        "            if w in vocab:\n",
        "                s.remove(w)"
      ],
      "execution_count": null,
      "outputs": []
    },
    {
      "cell_type": "code",
      "metadata": {
        "id": "uySIIxZF3nLy"
      },
      "source": [
        "a = 0\n",
        "b = 0\n",
        "t_list = []\n",
        "for i in q:\n",
        "    if i == []:\n",
        "        a += 1\n",
        "    else:\n",
        "        for w in i:\n",
        "            if '\\'' in w:\n",
        "                i.remove(w)\n",
        "            else:\n",
        "                t_list.append(i)\n",
        "                b += 1"
      ],
      "execution_count": null,
      "outputs": []
    },
    {
      "cell_type": "code",
      "metadata": {
        "id": "onR0p3wK3pEe"
      },
      "source": [
        "fd = open('nq/docset_tok.txt', 'r', encoding='utf-8')\n",
        "\n",
        "doc_tok = []\n",
        "\n",
        "for line in fd:\n",
        "    doc_tok.append(line)\n",
        "fd.close()"
      ],
      "execution_count": null,
      "outputs": []
    },
    {
      "cell_type": "code",
      "metadata": {
        "id": "RlTyWfKE3rLB"
      },
      "source": [
        "rank_margin = 20\n",
        "rank_ratio = 0.5"
      ],
      "execution_count": null,
      "outputs": []
    },
    {
      "cell_type": "code",
      "metadata": {
        "id": "axY4q_0F3vtp"
      },
      "source": [
        "fp = open('nq/predict.trec', 'r', encoding='utf-8')\n",
        "out_fp = open('nq/new_predict.trec', 'w', encoding='utf-8')\n",
        "\n",
        "qn = cnt//2\n",
        "k = 0\n",
        "for n in range(qn):\n",
        "    p_list = []\n",
        "    for i in range(1000):\n",
        "        line = fp.readline()\n",
        "        p_list.append(line.split())\n",
        "    if len(q[n]) > 0:\n",
        "        for w in q[n]:\n",
        "            for p in p_list:\n",
        "                did = int(p[2])\n",
        "                if w in doc_tok[did]:\n",
        "                    if int(p[3]) > rank_margin:\n",
        "                        k += 1\n",
        "                        p_list.remove(p)\n",
        "                        r = int(p[3])\n",
        "                        p[3] = str(int(r * rank_ratio) + 1)\n",
        "                        p[4] = str(float(p_list[int(r * rank_ratio) - 1][4]) + float(p_list[int(r * rank_ratio)][4]) / 2)\n",
        "                        p_list.insert(int(r * rank_ratio), p)\n",
        "    i = 0\n",
        "    for p in p_list:\n",
        "        out_fp.write('%s %s %s %d %s %s\\n' % (p[0], p[1], p[2], i + 1, p[4], p[5]))\n",
        "        i += 1 \n",
        "out_fp.close()\n",
        "fp.close()"
      ],
      "execution_count": null,
      "outputs": []
    },
    {
      "cell_type": "code",
      "metadata": {
        "id": "4i08HD6s3zGW"
      },
      "source": [
        "trec_eval_res = subprocess.Popen(['./trec_eval', '-m', 'all_trec', 'nq/answer.trec', 'nq/new_predict.trec'], stdout=subprocess.PIPE, shell=False)\n",
        "out, err = trec_eval_res.communicate()\n",
        "lines = out.decode('utf-8').strip().split('\\n')\n",
        "metrics = {}\n",
        "for line in lines[1:]:\n",
        "    metric, _, value = line.split()\n",
        "    if '.' in value:\n",
        "        value = float(value)\n",
        "    else:\n",
        "        value = int(value)\n",
        "    metrics[metric.lower()] = value\n",
        "print('| R@1000 |  R@500  | R@200 |  R@100  | R@30 |')\n",
        "print('| %6.2f | %6.2f | %6.2f | %6.2f | %6.2f |' % (metrics['recall_1000'] * 100, metrics['recall_500'] * 100, metrics['recall_200'] * 100, metrics['recall_100'] * 100, metrics['recall_30'] * 100 ))"
      ],
      "execution_count": null,
      "outputs": []
    },
    {
      "cell_type": "code",
      "metadata": {
        "id": "bSTcOVi_4zui"
      },
      "source": [
        ""
      ],
      "execution_count": null,
      "outputs": []
    }
  ]
}